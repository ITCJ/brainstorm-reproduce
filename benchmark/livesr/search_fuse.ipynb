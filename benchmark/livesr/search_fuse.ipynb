{
 "cells": [
  {
   "cell_type": "code",
   "execution_count": 4,
   "metadata": {},
   "outputs": [],
   "source": [
    "from timeit import timeit\n",
    "from pprint import pprint\n",
    "\n",
    "import torch\n",
    "from torch import nn\n",
    "from torch.utils.benchmark import Timer\n",
    "\n",
    "from brt.jit import make_jit_kernel\n",
    "\n",
    "from archs.fuse import TunedKernel, FusedLayer\n"
   ]
  },
  {
   "cell_type": "code",
   "execution_count": 5,
   "metadata": {},
   "outputs": [],
   "source": [
    "from itertools import chain, combinations\n",
    "import more_itertools as mit\n",
    "from more_itertools import set_partitions\n",
    "\n",
    "jit_kernel_info = {}\n"
   ]
  },
  {
   "cell_type": "markdown",
   "metadata": {},
   "source": [
    "### Single Kernels\n"
   ]
  },
  {
   "cell_type": "code",
   "execution_count": 6,
   "metadata": {},
   "outputs": [
    {
     "name": "stdout",
     "output_type": "stream",
     "text": [
      "{((4,), (1,)): 91.36011358350515,\n",
      " ((4,), (2,)): 105.07579427212477,\n",
      " ((4,), (3,)): 114.63670525699852,\n",
      " ((4,), (4,)): 147.4882010370493,\n",
      " ((4,), (5,)): 117.2125106677413,\n",
      " ((6,), (1,)): 152.44551468640566,\n",
      " ((6,), (2,)): 164.629309438169,\n",
      " ((6,), (3,)): 181.20440654456615,\n",
      " ((6,), (4,)): 183.78919921815395,\n",
      " ((6,), (5,)): 159.58589501678944,\n",
      " ((7,), (1,)): 115.07151648402213,\n",
      " ((7,), (2,)): 130.11470437049866,\n",
      " ((7,), (3,)): 135.02179645001888,\n",
      " ((7,), (4,)): 144.40750237554312,\n",
      " ((7,), (5,)): 146.48227952420712,\n",
      " ((8,), (1,)): 130.3850905969739,\n",
      " ((8,), (2,)): 157.31549356132746,\n",
      " ((8,), (3,)): 161.39321960508823,\n",
      " ((8,), (4,)): 168.92231069505215,\n",
      " ((8,), (5,)): 171.2535973638296,\n",
      " ((12,), (1,)): 154.13069631904364,\n",
      " ((12,), (2,)): 155.76770529150963,\n",
      " ((12,), (3,)): 163.19360584020615,\n",
      " ((12,), (4,)): 260.5539979413152,\n",
      " ((12,), (5,)): 267.45800860226154,\n",
      " ((27,), (1,)): 230.38950748741624,\n",
      " ((27,), (2,)): 237.57601156830788,\n",
      " ((27,), (3,)): 310.3171940892935,\n",
      " ((27,), (4,)): 305.66551722586155,\n",
      " ((27,), (5,)): 300.74429232627153}\n"
     ]
    }
   ],
   "source": [
    "NUM_FEATURE = 18\n",
    "\n",
    "conv2d = nn.Conv2d(NUM_FEATURE, NUM_FEATURE, 3, padding=1).eval().cuda()\n",
    "subnet_bs = sorted(\n",
    "    [6, 7, 12, 27, 8, 8, 8, 12, 12, 4]\n",
    ")  # [4, 6, 7, 8, 8, 8, 12, 12, 12, 27]\n",
    "\n",
    "for bs in set(subnet_bs):\n",
    "    for rank in range(1, 6):\n",
    "        inout_shape = [bs, NUM_FEATURE, 32, 32]\n",
    "        x = torch.empty(inout_shape, device=\"cuda\")\n",
    "        kernel = TunedKernel(conv2d, inout_shape, inout_shape, rank)\n",
    "        time = (\n",
    "            Timer(\n",
    "                f\"kernel(x)\",\n",
    "                setup=\"from __main__ import kernel, x; import torch; torch.cuda.synchronize();\",\n",
    "            )\n",
    "            .timeit(100)\n",
    "            .mean\n",
    "            * 10e6\n",
    "        )\n",
    "        jit_kernel_info[((bs,), (rank,))] = time\n",
    "\n",
    "pprint(jit_kernel_info)\n"
   ]
  },
  {
   "cell_type": "markdown",
   "metadata": {},
   "source": [
    "### Searching Group & Rank"
   ]
  },
  {
   "cell_type": "code",
   "execution_count": 15,
   "metadata": {},
   "outputs": [
    {
     "name": "stdout",
     "output_type": "stream",
     "text": [
      "\tNEW\t (4,) (1,)\n",
      "243.806->185.716, -58.090, -23.826%, 5\n",
      "\tAPPEND\t (4, 6) (1, 5)\n",
      "300.787->218.651, -82.136, -27.307%, 3\n",
      "\tAPPEND\t (4, 6, 7) (1, 5, 3)\n",
      "349.037->336.577, -12.459, -3.570%, 1\n",
      "\tAPPEND\t (4, 6, 7, 8) (1, 5, 3, 1)\n",
      "466.962->376.330, -90.633, -19.409%, 1\n",
      "\tAPPEND\t (4, 6, 7, 8, 8) (1, 5, 3, 1, 1)\n",
      "506.715->471.055, -35.660, -7.037%, 1\n",
      "\tAPPEND\t (4, 6, 7, 8, 8, 8) (1, 5, 3, 1, 1, 1)\n",
      "625.186->577.343, -47.843, -7.653%, 1\n",
      "\tAPPEND\t (4, 6, 7, 8, 8, 8, 12) (1, 5, 3, 1, 1, 1, 1)\n",
      "731.474->642.814, -88.660, -12.121%, 1\n",
      "\tAPPEND\t (4, 6, 7, 8, 8, 8, 12, 12) (1, 5, 3, 1, 1, 1, 1, 1)\n",
      "796.945->708.776, -88.168, -11.063%, 1\n",
      "\tAPPEND\t (4, 6, 7, 8, 8, 8, 12, 12, 12) (1, 5, 3, 1, 1, 1, 1, 1, 1)\n",
      "939.166->891.293, -47.873, -5.097%, 2\n",
      "\tAPPEND\t (4, 6, 7, 8, 8, 8, 12, 12, 12, 27) (1, 5, 3, 1, 1, 1, 1, 1, 1, 2)\n",
      "\tCLOSE\t (4, 6, 7, 8, 8, 8, 12, 12, 12, 27) (1, 5, 3, 1, 1, 1, 1, 1, 1, 2)\n",
      "[((4, 6, 7, 8, 8, 8, 12, 12, 12, 27), (1, 5, 3, 1, 1, 1, 1, 1, 1, 2))]\n"
     ]
    }
   ],
   "source": [
    "i = 0\n",
    "greedy_partition = []\n",
    "while i < len(subnet_bs):\n",
    "    cur_subnet_bs = (subnet_bs[i],)\n",
    "    cur_ranks = (1,)\n",
    "    print(f\"\\tNEW\\t {cur_subnet_bs} {cur_ranks}\")\n",
    "    i = i + 1\n",
    "\n",
    "    while i < len(subnet_bs):\n",
    "        cur_time = jit_kernel_info[(cur_subnet_bs, cur_ranks)]\n",
    "        new_subnet_bs = cur_subnet_bs + (subnet_bs[i],)\n",
    "        new_inout_shapes = [[bs, NUM_FEATURE, 32, 32] for bs in new_subnet_bs]\n",
    "        new_x = [torch.empty(shp, device=\"cuda\") for shp in new_inout_shapes]\n",
    "        rank_times = []\n",
    "        for rank in range(1, 6):\n",
    "            new_ranks = cur_ranks + (rank,)\n",
    "            new_kernel_rank = FusedLayer(\n",
    "                [conv2d] * len(new_subnet_bs),\n",
    "                new_inout_shapes,\n",
    "                new_inout_shapes,\n",
    "                new_ranks,\n",
    "            )\n",
    "            new_time_rank = (\n",
    "                Timer(\n",
    "                    f\"new_kernel_rank(new_x)\",\n",
    "                    setup=\"from __main__ import new_kernel_rank, new_x; import torch; torch.cuda.synchronize();\",\n",
    "                )\n",
    "                .timeit(100)\n",
    "                .mean\n",
    "                * 10e6\n",
    "            )\n",
    "            jit_kernel_info[(new_subnet_bs, new_ranks)] = new_time_rank\n",
    "            rank_times.append((new_ranks, new_time_rank))\n",
    "        new_ranks, new_time = min(rank_times, key=lambda x: x[1])\n",
    "        old_time = (\n",
    "            jit_kernel_info[(cur_subnet_bs, cur_ranks)]\n",
    "            + min([jit_kernel_info[((subnet_bs[i],), (rank,))] for rank in range(1, 6)])\n",
    "        )\n",
    "        print(\n",
    "            f\"{old_time:.3f}->{new_time:.3f}, {new_time-old_time:.3f}, {100 * (new_time/old_time-1):.3f}%, {new_ranks[-1]}\"\n",
    "        )\n",
    "        if new_time < old_time:\n",
    "            cur_subnet_bs = new_subnet_bs\n",
    "            cur_ranks = new_ranks\n",
    "            print(f\"\\tAPPEND\\t {cur_subnet_bs} {cur_ranks}\")\n",
    "        else:\n",
    "            break\n",
    "        i = i + 1\n",
    "\n",
    "    print(f\"\\tCLOSE\\t {cur_subnet_bs} {cur_ranks}\")\n",
    "    greedy_partition.append((cur_subnet_bs, cur_ranks))\n",
    "\n",
    "print(greedy_partition)\n",
    "# [[4, 6], [7], [8, 8, 8, 12, 12, 12], [27]]\n",
    "# [((4, 6), (1, 1)), ((7, 8, 8, 8), (1, 2, 2, 2)), ((12, 12, 12, 27), (1, 3, 3, 4))]\n"
   ]
  },
  {
   "cell_type": "code",
   "execution_count": 16,
   "metadata": {},
   "outputs": [
    {
     "name": "stdout",
     "output_type": "stream",
     "text": [
      "1442.8140129894018\n",
      "891.2930963560938\n"
     ]
    }
   ],
   "source": [
    "print(f\"{sum([jit_kernel_info[((bs, ), (1, ))] for bs in subnet_bs])}\")\n",
    "print(f\"{sum([jit_kernel_info[info] for info in greedy_partition])}\")\n"
   ]
  },
  {
   "cell_type": "markdown",
   "metadata": {},
   "source": [
    "### Searching Group (Rank = 1)"
   ]
  },
  {
   "cell_type": "code",
   "execution_count": 17,
   "metadata": {},
   "outputs": [
    {
     "name": "stdout",
     "output_type": "stream",
     "text": [
      "\tNEW\t (4,) (1,)\n",
      "243.806->195.972, -47.834, -19.620%, 1\n",
      "\tAPPEND\t (4, 6) (1, 1)\n",
      "311.044->262.423, -48.620, -15.631%, 1\n",
      "\tAPPEND\t (4, 6, 7) (1, 1, 1)\n",
      "392.808->345.376, -47.433, -12.075%, 1\n",
      "\tAPPEND\t (4, 6, 7, 8) (1, 1, 1, 1)\n",
      "475.761->422.329, -53.432, -11.231%, 1\n",
      "\tAPPEND\t (4, 6, 7, 8, 8) (1, 1, 1, 1, 1)\n",
      "552.714->477.586, -75.129, -13.593%, 1\n",
      "\tAPPEND\t (4, 6, 7, 8, 8, 8) (1, 1, 1, 1, 1, 1)\n",
      "631.716->562.003, -69.714, -11.036%, 1\n",
      "\tAPPEND\t (4, 6, 7, 8, 8, 8, 12) (1, 1, 1, 1, 1, 1, 1)\n",
      "716.133->618.895, -97.238, -13.578%, 1\n",
      "\tAPPEND\t (4, 6, 7, 8, 8, 8, 12, 12) (1, 1, 1, 1, 1, 1, 1, 1)\n",
      "773.026->687.632, -85.394, -11.047%, 1\n",
      "\tAPPEND\t (4, 6, 7, 8, 8, 8, 12, 12, 12) (1, 1, 1, 1, 1, 1, 1, 1, 1)\n",
      "918.021->896.292, -21.730, -2.367%, 1\n",
      "\tAPPEND\t (4, 6, 7, 8, 8, 8, 12, 12, 12, 27) (1, 1, 1, 1, 1, 1, 1, 1, 1, 1)\n",
      "\tCLOSE\t (4, 6, 7, 8, 8, 8, 12, 12, 12, 27) (1, 1, 1, 1, 1, 1, 1, 1, 1, 1)\n",
      "[((4, 6, 7, 8, 8, 8, 12, 12, 12, 27), (1, 1, 1, 1, 1, 1, 1, 1, 1, 1))]\n"
     ]
    }
   ],
   "source": [
    "i = 0\n",
    "greedy_partition = []\n",
    "while i < len(subnet_bs):\n",
    "    cur_subnet_bs = (subnet_bs[i],)\n",
    "    cur_ranks = (1,)\n",
    "    print(f\"\\tNEW\\t {cur_subnet_bs} {cur_ranks}\")\n",
    "    i = i + 1\n",
    "\n",
    "    while i < len(subnet_bs):\n",
    "        cur_time = jit_kernel_info[(cur_subnet_bs, cur_ranks)]\n",
    "        new_subnet_bs = cur_subnet_bs + (subnet_bs[i],)\n",
    "        new_inout_shapes = [[bs, NUM_FEATURE, 32, 32] for bs in new_subnet_bs]\n",
    "        new_x = [torch.empty(shp, device=\"cuda\") for shp in new_inout_shapes]\n",
    "        rank_times = []\n",
    "        for rank in range(1, 2):\n",
    "            new_ranks = cur_ranks + (rank,)\n",
    "            new_kernel_rank = FusedLayer(\n",
    "                [conv2d] * len(new_subnet_bs),\n",
    "                new_inout_shapes,\n",
    "                new_inout_shapes,\n",
    "                new_ranks,\n",
    "            )\n",
    "            new_time_rank = (\n",
    "                Timer(\n",
    "                    f\"new_kernel_rank(new_x)\",\n",
    "                    setup=\"from __main__ import new_kernel_rank, new_x; import torch; torch.cuda.synchronize();\",\n",
    "                )\n",
    "                .timeit(100)\n",
    "                .mean\n",
    "                * 10e6\n",
    "            )\n",
    "            jit_kernel_info[(new_subnet_bs, new_ranks)] = new_time_rank\n",
    "            rank_times.append((new_ranks, new_time_rank))\n",
    "        new_ranks, new_time = min(rank_times, key=lambda x: x[1])\n",
    "        old_time = (\n",
    "            jit_kernel_info[(cur_subnet_bs, cur_ranks)]\n",
    "            + jit_kernel_info[((subnet_bs[i],), (1,))]\n",
    "        )\n",
    "        print(\n",
    "            f\"{old_time:.3f}->{new_time:.3f}, {new_time-old_time:.3f}, {100 * (new_time/old_time-1):.3f}%, {new_ranks[-1]}\"\n",
    "        )\n",
    "        if new_time < old_time:\n",
    "            cur_subnet_bs = new_subnet_bs\n",
    "            cur_ranks = new_ranks\n",
    "            print(f\"\\tAPPEND\\t {cur_subnet_bs} {cur_ranks}\")\n",
    "        else:\n",
    "            break\n",
    "        i = i + 1\n",
    "\n",
    "    print(f\"\\tCLOSE\\t {cur_subnet_bs} {cur_ranks}\")\n",
    "    greedy_partition.append((cur_subnet_bs, cur_ranks))\n",
    "\n",
    "print(greedy_partition)\n",
    "# [[4, 6], [7], [8, 8, 8, 12, 12, 12], [27]]\n"
   ]
  },
  {
   "cell_type": "code",
   "execution_count": 10,
   "metadata": {},
   "outputs": [
    {
     "name": "stdout",
     "output_type": "stream",
     "text": [
      "1442.8140129894018\n",
      "891.228998079896\n"
     ]
    }
   ],
   "source": [
    "print(f\"{sum([jit_kernel_info[((bs, ), (1, ))] for bs in subnet_bs])}\")\n",
    "print(f\"{sum([jit_kernel_info[info] for info in greedy_partition])}\")\n"
   ]
  },
  {
   "cell_type": "markdown",
   "metadata": {},
   "source": [
    "### Searching Rank (bs = 12)\n"
   ]
  },
  {
   "cell_type": "code",
   "execution_count": 14,
   "metadata": {},
   "outputs": [
    {
     "name": "stdout",
     "output_type": "stream",
     "text": [
      "\tNEW\t (12, 12, 12) (1, 1, 1)\n",
      "462.392->295.493, -166.899, -36.095%, 1\n",
      "\tNEW\t (12, 12, 12) (2, 2, 2)\n",
      "462.392->303.034, -159.358, -34.464%, 2\n",
      "\tNEW\t (12, 12, 12) (3, 3, 3)\n",
      "462.392->423.969, -38.423, -8.310%, 3\n",
      "\tNEW\t (12, 12, 12) (4, 4, 4)\n",
      "462.392->399.059, -63.333, -13.697%, 4\n",
      "\tNEW\t (12, 12, 12) (5, 5, 5)\n",
      "462.392->390.600, -71.793, -15.526%, 5\n"
     ]
    }
   ],
   "source": [
    "# i = 0\n",
    "# greedy_partition = []\n",
    "\n",
    "bs = 12\n",
    "num_models = 3\n",
    "\n",
    "new_subnet_bs = (bs,) * num_models\n",
    "\n",
    "for rank in range(1, 6):\n",
    "    new_ranks = (rank,) * num_models\n",
    "    print(f\"\\tNEW\\t {new_subnet_bs} {new_ranks}\")\n",
    "    new_inout_shapes = [[bs, NUM_FEATURE, 32, 32] for bs in new_subnet_bs]\n",
    "    new_kernel = FusedLayer(\n",
    "        [conv2d] * len(new_subnet_bs),\n",
    "        new_inout_shapes,\n",
    "        new_inout_shapes,\n",
    "        new_ranks,\n",
    "    )\n",
    "    new_x = [torch.empty(shp, device=\"cuda\") for shp in new_inout_shapes]\n",
    "    new_time = (\n",
    "        Timer(\n",
    "            f\"new_kernel(new_x)\",\n",
    "            setup=\"from __main__ import new_kernel, new_x; import torch; torch.cuda.synchronize();\",\n",
    "        )\n",
    "        .timeit(100)\n",
    "        .mean\n",
    "        * 10e6\n",
    "    )\n",
    "    jit_kernel_info[(new_subnet_bs, new_ranks)] = new_time\n",
    "    old_time = min(jit_kernel_info[((bs,), (rank,))] for rank in range(1, 6)) * 3\n",
    "    print(\n",
    "        f\"{old_time:.3f}->{new_time:.3f}, {new_time-old_time:.3f}, {100 * (new_time/old_time-1):.3f}%, {new_ranks[-1]}\"\n",
    "    )\n"
   ]
  }
 ],
 "metadata": {
  "kernelspec": {
   "display_name": "Python 3.8.13 ('base')",
   "language": "python",
   "name": "python3"
  },
  "language_info": {
   "codemirror_mode": {
    "name": "ipython",
    "version": 3
   },
   "file_extension": ".py",
   "mimetype": "text/x-python",
   "name": "python",
   "nbconvert_exporter": "python",
   "pygments_lexer": "ipython3",
   "version": "3.8.13"
  },
  "orig_nbformat": 4,
  "vscode": {
   "interpreter": {
    "hash": "ada0f2bafc207a9420389a0d15036c00ed757384986ead74c3b832cdd2f7c4ec"
   }
  }
 },
 "nbformat": 4,
 "nbformat_minor": 2
}
